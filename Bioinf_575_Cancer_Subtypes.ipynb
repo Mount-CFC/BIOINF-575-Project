{
 "cells": [
  {
   "cell_type": "markdown",
   "id": "a668ba51-c2ae-4404-ac62-4702a4d99f5c",
   "metadata": {},
   "source": [
    "# Bioinformatics 575 Group Project\n"
   ]
  },
  {
   "cell_type": "markdown",
   "id": "57343f8e-05ac-4988-87d4-b16e1e29a872",
   "metadata": {},
   "source": [
    "***Lung Cancer Subtypes***"
   ]
  },
  {
   "cell_type": "markdown",
   "id": "6245a08b-f136-4ee4-bb34-3b61ac8602e1",
   "metadata": {},
   "source": [
    "### Task 1 - Load the Data"
   ]
  },
  {
   "cell_type": "code",
   "execution_count": 1,
   "id": "2705805d-bbb7-489f-8a2c-314be8a14b4c",
   "metadata": {
    "collapsed": true,
    "jupyter": {
     "outputs_hidden": true
    },
    "tags": []
   },
   "outputs": [
    {
     "name": "stdout",
     "output_type": "stream",
     "text": [
      "Collecting GEOparse\n",
      "  Downloading GEOparse-2.0.3.tar.gz (278 kB)\n",
      "     ---------------------------------------- 0.0/278.5 kB ? eta -:--:--\n",
      "     -------------------------------------  276.5/278.5 kB 8.6 MB/s eta 0:00:01\n",
      "     -------------------------------------- 278.5/278.5 kB 5.7 MB/s eta 0:00:00\n",
      "  Preparing metadata (setup.py): started\n",
      "  Preparing metadata (setup.py): finished with status 'done'\n",
      "Requirement already satisfied: numpy>=1.7 in c:\\users\\ajsto\\anaconda3\\lib\\site-packages (from GEOparse) (1.24.3)\n",
      "Requirement already satisfied: pandas>=0.17 in c:\\users\\ajsto\\anaconda3\\lib\\site-packages (from GEOparse) (1.5.3)\n",
      "Requirement already satisfied: requests>=2.21.0 in c:\\users\\ajsto\\anaconda3\\lib\\site-packages (from GEOparse) (2.31.0)\n",
      "Requirement already satisfied: tqdm>=4.31.1 in c:\\users\\ajsto\\anaconda3\\lib\\site-packages (from GEOparse) (4.65.0)\n",
      "Requirement already satisfied: python-dateutil>=2.8.1 in c:\\users\\ajsto\\anaconda3\\lib\\site-packages (from pandas>=0.17->GEOparse) (2.8.2)\n",
      "Requirement already satisfied: pytz>=2020.1 in c:\\users\\ajsto\\anaconda3\\lib\\site-packages (from pandas>=0.17->GEOparse) (2022.7)\n",
      "Requirement already satisfied: charset-normalizer<4,>=2 in c:\\users\\ajsto\\anaconda3\\lib\\site-packages (from requests>=2.21.0->GEOparse) (2.0.4)\n",
      "Requirement already satisfied: idna<4,>=2.5 in c:\\users\\ajsto\\anaconda3\\lib\\site-packages (from requests>=2.21.0->GEOparse) (3.4)\n",
      "Requirement already satisfied: urllib3<3,>=1.21.1 in c:\\users\\ajsto\\anaconda3\\lib\\site-packages (from requests>=2.21.0->GEOparse) (1.26.16)\n",
      "Requirement already satisfied: certifi>=2017.4.17 in c:\\users\\ajsto\\anaconda3\\lib\\site-packages (from requests>=2.21.0->GEOparse) (2023.7.22)\n",
      "Requirement already satisfied: colorama in c:\\users\\ajsto\\anaconda3\\lib\\site-packages (from tqdm>=4.31.1->GEOparse) (0.4.6)\n",
      "Requirement already satisfied: six>=1.5 in c:\\users\\ajsto\\anaconda3\\lib\\site-packages (from python-dateutil>=2.8.1->pandas>=0.17->GEOparse) (1.16.0)\n",
      "Building wheels for collected packages: GEOparse\n",
      "  Building wheel for GEOparse (setup.py): started\n",
      "  Building wheel for GEOparse (setup.py): finished with status 'done'\n",
      "  Created wheel for GEOparse: filename=GEOparse-2.0.3-py3-none-any.whl size=29105 sha256=1289d8cd74d212e14a5537d000666279fe3045dd617ce1f6744024b7ca7f3cab\n",
      "  Stored in directory: c:\\users\\ajsto\\appdata\\local\\pip\\cache\\wheels\\07\\d8\\e8\\dff85b0ba93c04aa26bea277e683555a3d80e07c6a41dff86c\n",
      "Successfully built GEOparse\n",
      "Installing collected packages: GEOparse\n",
      "Successfully installed GEOparse-2.0.3\n",
      "Note: you may need to restart the kernel to use updated packages.\n"
     ]
    }
   ],
   "source": [
    "#install GEOparse to load data set\n",
    "pip install GEOparse"
   ]
  },
  {
   "cell_type": "code",
   "execution_count": null,
   "id": "685371d9-c240-4f90-8739-1433c7bee5f0",
   "metadata": {},
   "outputs": [],
   "source": [
    "#Access lung cancer data\n",
    "#Link to data file: https://www.ncbi.nlm.nih.gov/geo/query/acc.cgi?acc=GSE10245"
   ]
  },
  {
   "cell_type": "code",
   "execution_count": 2,
   "id": "a2c8f9ab-9baa-42b0-b5e1-94f41ac875d7",
   "metadata": {
    "collapsed": true,
    "jupyter": {
     "outputs_hidden": true
    },
    "tags": []
   },
   "outputs": [
    {
     "name": "stderr",
     "output_type": "stream",
     "text": [
      "21-Oct-2023 19:47:50 DEBUG utils - Directory ./ already exists. Skipping.\n",
      "21-Oct-2023 19:47:50 INFO GEOparse - Downloading ftp://ftp.ncbi.nlm.nih.gov/geo/series/GSE10nnn/GSE10245/soft/GSE10245_family.soft.gz to ./GSE10245_family.soft.gz\n",
      "100%|██████████| 37.1M/37.1M [00:02<00:00, 16.8MB/s]\n",
      "21-Oct-2023 19:47:53 DEBUG downloader - Size validation passed\n",
      "21-Oct-2023 19:47:53 DEBUG downloader - Moving C:\\Users\\ajsto\\AppData\\Local\\Temp\\tmpm4ak6pjn to C:\\Users\\ajsto\\OneDrive\\Documents\\Bioinf\\BIOINF-575-Project\\GSE10245_family.soft.gz\n",
      "21-Oct-2023 19:47:53 DEBUG downloader - Successfully downloaded ftp://ftp.ncbi.nlm.nih.gov/geo/series/GSE10nnn/GSE10245/soft/GSE10245_family.soft.gz\n",
      "21-Oct-2023 19:47:53 INFO GEOparse - Parsing ./GSE10245_family.soft.gz: \n",
      "21-Oct-2023 19:47:53 DEBUG GEOparse - DATABASE: GeoMiame\n",
      "21-Oct-2023 19:47:53 DEBUG GEOparse - SERIES: GSE10245\n",
      "21-Oct-2023 19:47:53 DEBUG GEOparse - PLATFORM: GPL570\n",
      "C:\\Users\\ajsto\\anaconda3\\Lib\\site-packages\\GEOparse\\GEOparse.py:401: DtypeWarning: Columns (2) have mixed types. Specify dtype option on import or set low_memory=False.\n",
      "  return read_csv(StringIO(data), index_col=None, sep=\"\\t\")\n",
      "21-Oct-2023 19:47:54 DEBUG GEOparse - SAMPLE: GSM258551\n",
      "21-Oct-2023 19:47:54 DEBUG GEOparse - SAMPLE: GSM258552\n",
      "21-Oct-2023 19:47:54 DEBUG GEOparse - SAMPLE: GSM258553\n",
      "21-Oct-2023 19:47:54 DEBUG GEOparse - SAMPLE: GSM258554\n",
      "21-Oct-2023 19:47:54 DEBUG GEOparse - SAMPLE: GSM258555\n",
      "21-Oct-2023 19:47:54 DEBUG GEOparse - SAMPLE: GSM258556\n",
      "21-Oct-2023 19:47:54 DEBUG GEOparse - SAMPLE: GSM258557\n",
      "21-Oct-2023 19:47:54 DEBUG GEOparse - SAMPLE: GSM258558\n",
      "21-Oct-2023 19:47:54 DEBUG GEOparse - SAMPLE: GSM258559\n",
      "21-Oct-2023 19:47:55 DEBUG GEOparse - SAMPLE: GSM258560\n",
      "21-Oct-2023 19:47:55 DEBUG GEOparse - SAMPLE: GSM258561\n",
      "21-Oct-2023 19:47:55 DEBUG GEOparse - SAMPLE: GSM258562\n",
      "21-Oct-2023 19:47:55 DEBUG GEOparse - SAMPLE: GSM258563\n",
      "21-Oct-2023 19:47:55 DEBUG GEOparse - SAMPLE: GSM258564\n",
      "21-Oct-2023 19:47:55 DEBUG GEOparse - SAMPLE: GSM258565\n",
      "21-Oct-2023 19:47:55 DEBUG GEOparse - SAMPLE: GSM258566\n",
      "21-Oct-2023 19:47:55 DEBUG GEOparse - SAMPLE: GSM258567\n",
      "21-Oct-2023 19:47:55 DEBUG GEOparse - SAMPLE: GSM258568\n",
      "21-Oct-2023 19:47:55 DEBUG GEOparse - SAMPLE: GSM258569\n",
      "21-Oct-2023 19:47:55 DEBUG GEOparse - SAMPLE: GSM258570\n",
      "21-Oct-2023 19:47:55 DEBUG GEOparse - SAMPLE: GSM258571\n",
      "21-Oct-2023 19:47:55 DEBUG GEOparse - SAMPLE: GSM258572\n",
      "21-Oct-2023 19:47:56 DEBUG GEOparse - SAMPLE: GSM258573\n",
      "21-Oct-2023 19:47:56 DEBUG GEOparse - SAMPLE: GSM258574\n",
      "21-Oct-2023 19:47:56 DEBUG GEOparse - SAMPLE: GSM258575\n",
      "21-Oct-2023 19:47:56 DEBUG GEOparse - SAMPLE: GSM258576\n",
      "21-Oct-2023 19:47:56 DEBUG GEOparse - SAMPLE: GSM258577\n",
      "21-Oct-2023 19:47:56 DEBUG GEOparse - SAMPLE: GSM258578\n",
      "21-Oct-2023 19:47:56 DEBUG GEOparse - SAMPLE: GSM258579\n",
      "21-Oct-2023 19:47:56 DEBUG GEOparse - SAMPLE: GSM258580\n",
      "21-Oct-2023 19:47:56 DEBUG GEOparse - SAMPLE: GSM258581\n",
      "21-Oct-2023 19:47:56 DEBUG GEOparse - SAMPLE: GSM258582\n",
      "21-Oct-2023 19:47:56 DEBUG GEOparse - SAMPLE: GSM258583\n",
      "21-Oct-2023 19:47:56 DEBUG GEOparse - SAMPLE: GSM258584\n",
      "21-Oct-2023 19:47:57 DEBUG GEOparse - SAMPLE: GSM258585\n",
      "21-Oct-2023 19:47:57 DEBUG GEOparse - SAMPLE: GSM258586\n",
      "21-Oct-2023 19:47:57 DEBUG GEOparse - SAMPLE: GSM258587\n",
      "21-Oct-2023 19:47:57 DEBUG GEOparse - SAMPLE: GSM258588\n",
      "21-Oct-2023 19:47:57 DEBUG GEOparse - SAMPLE: GSM258589\n",
      "21-Oct-2023 19:47:57 DEBUG GEOparse - SAMPLE: GSM258590\n",
      "21-Oct-2023 19:47:57 DEBUG GEOparse - SAMPLE: GSM258591\n",
      "21-Oct-2023 19:47:57 DEBUG GEOparse - SAMPLE: GSM258592\n",
      "21-Oct-2023 19:47:57 DEBUG GEOparse - SAMPLE: GSM258593\n",
      "21-Oct-2023 19:47:57 DEBUG GEOparse - SAMPLE: GSM258594\n",
      "21-Oct-2023 19:47:57 DEBUG GEOparse - SAMPLE: GSM258595\n",
      "21-Oct-2023 19:47:57 DEBUG GEOparse - SAMPLE: GSM258596\n",
      "21-Oct-2023 19:47:58 DEBUG GEOparse - SAMPLE: GSM258597\n",
      "21-Oct-2023 19:47:58 DEBUG GEOparse - SAMPLE: GSM258598\n",
      "21-Oct-2023 19:47:58 DEBUG GEOparse - SAMPLE: GSM258599\n",
      "21-Oct-2023 19:47:58 DEBUG GEOparse - SAMPLE: GSM258600\n",
      "21-Oct-2023 19:47:58 DEBUG GEOparse - SAMPLE: GSM258601\n",
      "21-Oct-2023 19:47:58 DEBUG GEOparse - SAMPLE: GSM258602\n",
      "21-Oct-2023 19:47:58 DEBUG GEOparse - SAMPLE: GSM258603\n",
      "21-Oct-2023 19:47:58 DEBUG GEOparse - SAMPLE: GSM258604\n",
      "21-Oct-2023 19:47:58 DEBUG GEOparse - SAMPLE: GSM258605\n",
      "21-Oct-2023 19:47:58 DEBUG GEOparse - SAMPLE: GSM258606\n",
      "21-Oct-2023 19:47:58 DEBUG GEOparse - SAMPLE: GSM258607\n",
      "21-Oct-2023 19:47:58 DEBUG GEOparse - SAMPLE: GSM258608\n"
     ]
    }
   ],
   "source": [
    "import GEOparse\n",
    "gse = GEOparse.get_GEO(geo=\"GSE10245\", destdir=\"./\")"
   ]
  },
  {
   "cell_type": "code",
   "execution_count": null,
   "id": "d3ef4711-4c59-4351-aea6-0945c6a24d2f",
   "metadata": {},
   "outputs": [],
   "source": []
  }
 ],
 "metadata": {
  "kernelspec": {
   "display_name": "Python 3 (ipykernel)",
   "language": "python",
   "name": "python3"
  },
  "language_info": {
   "codemirror_mode": {
    "name": "ipython",
    "version": 3
   },
   "file_extension": ".py",
   "mimetype": "text/x-python",
   "name": "python",
   "nbconvert_exporter": "python",
   "pygments_lexer": "ipython3",
   "version": "3.11.4"
  }
 },
 "nbformat": 4,
 "nbformat_minor": 5
}
